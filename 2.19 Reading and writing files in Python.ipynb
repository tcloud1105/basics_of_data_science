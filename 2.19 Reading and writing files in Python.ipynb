{
 "cells": [
  {
   "cell_type": "code",
   "execution_count": 1,
   "metadata": {},
   "outputs": [
    {
     "name": "stdout",
     "output_type": "stream",
     "text": [
      "Overwriting test.txt\n"
     ]
    }
   ],
   "source": [
    "%%writefile test.txt\n",
    "\n",
    "\"Hello python\"\n",
    "\"This is a good day for coding\""
   ]
  },
  {
   "cell_type": "code",
   "execution_count": 7,
   "metadata": {},
   "outputs": [],
   "source": [
    "t = open(\"./files/test.txt\")"
   ]
  },
  {
   "cell_type": "code",
   "execution_count": 6,
   "metadata": {},
   "outputs": [
    {
     "name": "stdout",
     "output_type": "stream",
     "text": [
      "\n",
      "\"Hello python\"\n",
      "\"This is a good day for coding\"\n"
     ]
    }
   ],
   "source": [
    "t_read = t.read()\n",
    "print (t_read)"
   ]
  },
  {
   "cell_type": "code",
   "execution_count": 8,
   "metadata": {},
   "outputs": [
    {
     "name": "stdout",
     "output_type": "stream",
     "text": [
      "['\\n', '\"Hello python\"\\n', '\"This is a good day for coding\"']\n"
     ]
    }
   ],
   "source": [
    "t_lines = t.readlines()\n",
    "print(t_lines)"
   ]
  },
  {
   "cell_type": "code",
   "execution_count": 9,
   "metadata": {},
   "outputs": [
    {
     "name": "stdout",
     "output_type": "stream",
     "text": [
      "<class 'list'>\n"
     ]
    }
   ],
   "source": [
    "print(type(t_lines))"
   ]
  },
  {
   "cell_type": "code",
   "execution_count": 10,
   "metadata": {},
   "outputs": [
    {
     "name": "stdout",
     "output_type": "stream",
     "text": [
      "Current line: \n",
      "\n",
      "Current line: \"Hello python\"\n",
      "\n",
      "Current line: \"This is a good day for coding\"\n"
     ]
    }
   ],
   "source": [
    "for i in t_lines:\n",
    "    print (\"Current line:\", i)"
   ]
  },
  {
   "cell_type": "code",
   "execution_count": 11,
   "metadata": {},
   "outputs": [],
   "source": [
    "t.close()"
   ]
  },
  {
   "cell_type": "code",
   "execution_count": 13,
   "metadata": {},
   "outputs": [],
   "source": [
    "t_2 = open(\"test_write.txt\",\"w\")\n",
    "t_2.write(\"This is a good day \\n\")\n",
    "t_2.write(\"Let's start to learn Python\")\n",
    "t_2.close()"
   ]
  },
  {
   "cell_type": "code",
   "execution_count": 14,
   "metadata": {},
   "outputs": [],
   "source": [
    "t_2 = open(\"test_write.txt\",\"w\")\n",
    "t_2.write(\"This is a good day \\n\")\n",
    "t_2.write(\"123454143 \\n\")\n",
    "t_2.write(\"qwerty\")\n",
    "t_2.close()"
   ]
  },
  {
   "cell_type": "code",
   "execution_count": 15,
   "metadata": {},
   "outputs": [],
   "source": [
    "t_2 = open(\"test_write.txt\",\"a\")\n",
    "t_2.write(\"This is a good day \\n\")\n",
    "t_2.write(\"123454143 \\n\")\n",
    "t_2.write(\"qwerty\")\n",
    "t_2.close()"
   ]
  },
  {
   "cell_type": "code",
   "execution_count": 26,
   "metadata": {},
   "outputs": [
    {
     "name": "stdout",
     "output_type": "stream",
     "text": [
      "0\n",
      "1\n",
      "2\n",
      "3\n",
      "4\n",
      "5\n",
      "6\n",
      "7\n",
      "8\n",
      "9\n",
      "10\n",
      "11\n",
      "12\n",
      "13\n",
      "14\n",
      "\n"
     ]
    }
   ],
   "source": [
    "t_2 = open(\"test_write.txt\",\"w\")\n",
    "for i in range(15):\n",
    "    t_2.write(str(i)+\"\\n\")\n",
    "t_2.close()\n",
    "t_3 = open(\"test_write.txt\", \"r\")\n",
    "print(t_3.read())"
   ]
  },
  {
   "cell_type": "code",
   "execution_count": 28,
   "metadata": {},
   "outputs": [
    {
     "name": "stdout",
     "output_type": "stream",
     "text": [
      "Unknow error: 50\n"
     ]
    }
   ],
   "source": [
    "t_2 = open(\"test_write.txt\",\"w\")\n",
    "try:\n",
    "    for i in range(100):\n",
    "        10/(i-50)\n",
    "        t_2.write(str(i)+\"\\n\")\n",
    "except Exception:\n",
    "    print(\"Unknow error:\",i)\n",
    "finally:\n",
    "    t_2.close()"
   ]
  },
  {
   "cell_type": "code",
   "execution_count": 29,
   "metadata": {},
   "outputs": [],
   "source": [
    "with open(\"test_write.txt\", \"w\") as f:\n",
    "    f.write(\"Hello Python\")"
   ]
  },
  {
   "cell_type": "code",
   "execution_count": null,
   "metadata": {},
   "outputs": [],
   "source": []
  }
 ],
 "metadata": {
  "kernelspec": {
   "display_name": "Python 3",
   "language": "python",
   "name": "python3"
  },
  "language_info": {
   "codemirror_mode": {
    "name": "ipython",
    "version": 3
   },
   "file_extension": ".py",
   "mimetype": "text/x-python",
   "name": "python",
   "nbconvert_exporter": "python",
   "pygments_lexer": "ipython3",
   "version": "3.6.4"
  }
 },
 "nbformat": 4,
 "nbformat_minor": 2
}
