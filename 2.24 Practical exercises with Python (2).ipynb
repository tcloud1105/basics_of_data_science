{
 "cells": [
  {
   "cell_type": "markdown",
   "metadata": {},
   "source": [
    "#### EXERCISE\n",
    "\n",
    "The rewards that a company gives to their emplyees are based on profits. We divide the profits in the following way:\n",
    "* 1st less or equals to 10.000 €, bonus is 10%;\n",
    "* 2nd greater than 10.000 €, less than 20.000 €, where the part less than 10.000 € will still be 10% and the part which exceeds 10.000€ bonus will be 7,5%;\n",
    "* 3rd between 20.000€ and 40.000€, the bonus of the part exceeding 20.000 € will be 5%;\n",
    "* 4th between 40.000€ and 60.000€, the bonus of the part exceeding 40.000 €, will be 3%;\n",
    "* 5th between 60.000€ and 100.000€, the bonus of the part exceeding 60.000 € will be 1.5%;\n",
    "* 6th greater than 100.000€, the bonus of the part exceeding 100.000 € will be 1%.\n",
    "##### Task: the monthly profit must be put in and it has to calculate the total import of the bonus"
   ]
  },
  {
   "cell_type": "code",
   "execution_count": 3,
   "metadata": {},
   "outputs": [
    {
     "name": "stdout",
     "output_type": "stream",
     "text": [
      "enter the amount of profit:12000\n",
      "1150.0\n"
     ]
    }
   ],
   "source": [
    "input_n = int(input(\"enter the amount of profit:\"))\n",
    "profit = [100000,60000,40000,20000,10000,0]\n",
    "rate = [0.01,0.015,0.03,0.05,0.075,0.1]\n",
    "r = 0\n",
    "for index in range(0,6):\n",
    "    if input_n > profit[index]:\n",
    "        r += (input_n - profit[index])*rate[index]\n",
    "        input_n = profit[index]\n",
    "print(r)"
   ]
  },
  {
   "cell_type": "code",
   "execution_count": null,
   "metadata": {},
   "outputs": [],
   "source": []
  }
 ],
 "metadata": {
  "kernelspec": {
   "display_name": "Python 3",
   "language": "python",
   "name": "python3"
  },
  "language_info": {
   "codemirror_mode": {
    "name": "ipython",
    "version": 3
   },
   "file_extension": ".py",
   "mimetype": "text/x-python",
   "name": "python",
   "nbconvert_exporter": "python",
   "pygments_lexer": "ipython3",
   "version": "3.6.4"
  }
 },
 "nbformat": 4,
 "nbformat_minor": 2
}
