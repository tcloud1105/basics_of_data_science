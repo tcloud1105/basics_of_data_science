{
 "cells": [
  {
   "cell_type": "markdown",
   "metadata": {},
   "source": [
    "#### EXERCISE\n",
    "\n",
    "Create threee integers x,y,z. \n",
    "\n",
    "##### Task: Order the integers from the smallest to the largest."
   ]
  },
  {
   "cell_type": "code",
   "execution_count": 2,
   "metadata": {},
   "outputs": [
    {
     "name": "stdout",
     "output_type": "stream",
     "text": [
      "Input number:1231\n",
      "Input number:454\n",
      "Input number:212\n",
      "[1231, 454, 212]\n"
     ]
    }
   ],
   "source": [
    "l_1 = []\n",
    "for i in range(3):\n",
    "    input_n = int(input(\"Input number:\"))\n",
    "    l_1.append(input_n)\n",
    "l_1.sort(reverse=True)\n",
    "print(l_1)"
   ]
  },
  {
   "cell_type": "code",
   "execution_count": null,
   "metadata": {},
   "outputs": [],
   "source": []
  }
 ],
 "metadata": {
  "kernelspec": {
   "display_name": "Python 3",
   "language": "python",
   "name": "python3"
  },
  "language_info": {
   "codemirror_mode": {
    "name": "ipython",
    "version": 3
   },
   "file_extension": ".py",
   "mimetype": "text/x-python",
   "name": "python",
   "nbconvert_exporter": "python",
   "pygments_lexer": "ipython3",
   "version": "3.6.4"
  }
 },
 "nbformat": 4,
 "nbformat_minor": 2
}
