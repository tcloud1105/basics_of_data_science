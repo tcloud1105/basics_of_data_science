{
 "cells": [
  {
   "cell_type": "markdown",
   "metadata": {},
   "source": [
    "#### EXERCISE\n",
    "\n",
    "\n",
    "\n",
    "##### TASK: print every day of November 2018"
   ]
  },
  {
   "cell_type": "code",
   "execution_count": 1,
   "metadata": {},
   "outputs": [],
   "source": [
    "import numpy as np"
   ]
  },
  {
   "cell_type": "code",
   "execution_count": 2,
   "metadata": {},
   "outputs": [
    {
     "data": {
      "text/plain": [
       "array(['2018-11-01', '2018-11-02', '2018-11-03', '2018-11-04',\n",
       "       '2018-11-05', '2018-11-06', '2018-11-07', '2018-11-08',\n",
       "       '2018-11-09', '2018-11-10', '2018-11-11', '2018-11-12',\n",
       "       '2018-11-13', '2018-11-14', '2018-11-15', '2018-11-16',\n",
       "       '2018-11-17', '2018-11-18', '2018-11-19', '2018-11-20',\n",
       "       '2018-11-21', '2018-11-22', '2018-11-23', '2018-11-24',\n",
       "       '2018-11-25', '2018-11-26', '2018-11-27', '2018-11-28',\n",
       "       '2018-11-29', '2018-11-30'], dtype='datetime64[D]')"
      ]
     },
     "execution_count": 2,
     "metadata": {},
     "output_type": "execute_result"
    }
   ],
   "source": [
    "np.arange(\"2018-11\",\"2018-12\", dtype=\"datetime64[D]\")"
   ]
  },
  {
   "cell_type": "code",
   "execution_count": null,
   "metadata": {},
   "outputs": [],
   "source": []
  }
 ],
 "metadata": {
  "kernelspec": {
   "display_name": "Python 3",
   "language": "python",
   "name": "python3"
  },
  "language_info": {
   "codemirror_mode": {
    "name": "ipython",
    "version": 3
   },
   "file_extension": ".py",
   "mimetype": "text/x-python",
   "name": "python",
   "nbconvert_exporter": "python",
   "pygments_lexer": "ipython3",
   "version": "3.6.4"
  }
 },
 "nbformat": 4,
 "nbformat_minor": 2
}
