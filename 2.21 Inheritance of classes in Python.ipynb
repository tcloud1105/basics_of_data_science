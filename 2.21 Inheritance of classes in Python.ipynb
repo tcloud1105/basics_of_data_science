{
 "cells": [
  {
   "cell_type": "code",
   "execution_count": 4,
   "metadata": {},
   "outputs": [],
   "source": [
    "class Parent:\n",
    "    number = 10\n",
    "    def __init__(self):\n",
    "        print(\"this is the parent class\")\n",
    "    def FirstFunc(self):\n",
    "        print(\"this is the first function of the parent class\")\n",
    "    def setAttr(self,attr):\n",
    "        Parent.parentAttribute = attr\n",
    "    def getAttr (self):\n",
    "        print(\"Parent attribute:\",Parent.parentAttribute)\n",
    "        \n",
    "class Child(Parent):\n",
    "    def __init__(self):\n",
    "        print(\"this is the child class\")\n",
    "    def FirstFunc(self):\n",
    "        print(\"Changed\")\n",
    "    def SecondFunc(self):\n",
    "        print(\"this is the second function of child class\")"
   ]
  },
  {
   "cell_type": "code",
   "execution_count": 5,
   "metadata": {},
   "outputs": [
    {
     "name": "stdout",
     "output_type": "stream",
     "text": [
      "this is the child class\n"
     ]
    }
   ],
   "source": [
    "c_1 = Child()"
   ]
  },
  {
   "cell_type": "code",
   "execution_count": 6,
   "metadata": {},
   "outputs": [
    {
     "name": "stdout",
     "output_type": "stream",
     "text": [
      "Changed\n",
      "this is the second function of child class\n",
      "Parent attribute: 200\n"
     ]
    }
   ],
   "source": [
    "c_1.FirstFunc()\n",
    "c_1.SecondFunc()\n",
    "c_1.setAttr(200)\n",
    "c_1.getAttr()"
   ]
  },
  {
   "cell_type": "code",
   "execution_count": null,
   "metadata": {},
   "outputs": [],
   "source": []
  }
 ],
 "metadata": {
  "kernelspec": {
   "display_name": "Python 3",
   "language": "python",
   "name": "python3"
  },
  "language_info": {
   "codemirror_mode": {
    "name": "ipython",
    "version": 3
   },
   "file_extension": ".py",
   "mimetype": "text/x-python",
   "name": "python",
   "nbconvert_exporter": "python",
   "pygments_lexer": "ipython3",
   "version": "3.6.4"
  }
 },
 "nbformat": 4,
 "nbformat_minor": 2
}
