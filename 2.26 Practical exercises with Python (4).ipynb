{
 "cells": [
  {
   "cell_type": "markdown",
   "metadata": {},
   "source": [
    "#### EXERCISE\n",
    "\n",
    "##### Task: insert a line of text and get the number of letters, the number of spaces, the quantity of numbers, and the quantity of all the remainder from the inserted row"
   ]
  },
  {
   "cell_type": "code",
   "execution_count": 3,
   "metadata": {},
   "outputs": [
    {
     "name": "stdout",
     "output_type": "stream",
     "text": [
      "Enter text:cmlskj fskadjflkajoiqw8923984j sm>>p;oi0\n",
      "Characters = 27, spaces = 2, numbers = 8, others = 3 \n"
     ]
    }
   ],
   "source": [
    "input_n = input(\"Enter text:\")\n",
    "characters = 0\n",
    "spaces = 0\n",
    "numbers = 0\n",
    "others = 0\n",
    "for c in input_n:\n",
    "    if c.isalpha():\n",
    "        characters += 1\n",
    "    elif c.isspace():\n",
    "        spaces += 1\n",
    "    elif c.isdigit():\n",
    "        numbers += 1\n",
    "    else:\n",
    "        others += 1\n",
    "print (\"Characters = %d, spaces = %d, numbers = %d, others = %d \" %(characters,spaces,numbers,others))"
   ]
  },
  {
   "cell_type": "code",
   "execution_count": null,
   "metadata": {},
   "outputs": [],
   "source": []
  }
 ],
 "metadata": {
  "kernelspec": {
   "display_name": "Python 3",
   "language": "python",
   "name": "python3"
  },
  "language_info": {
   "codemirror_mode": {
    "name": "ipython",
    "version": 3
   },
   "file_extension": ".py",
   "mimetype": "text/x-python",
   "name": "python",
   "nbconvert_exporter": "python",
   "pygments_lexer": "ipython3",
   "version": "3.6.4"
  }
 },
 "nbformat": 4,
 "nbformat_minor": 2
}
